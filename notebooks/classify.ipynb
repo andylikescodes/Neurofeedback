{
 "cells": [
  {
   "cell_type": "code",
   "execution_count": 7,
   "metadata": {},
   "outputs": [],
   "source": [
    "import sys\n",
    "sys.path.append('../src/')\n",
    "\n",
    "from classification import pipeline"
   ]
  },
  {
   "cell_type": "code",
   "execution_count": 8,
   "metadata": {},
   "outputs": [],
   "source": [
    "import os"
   ]
  },
  {
   "cell_type": "code",
   "execution_count": 9,
   "metadata": {},
   "outputs": [
    {
     "data": {
      "text/plain": [
       "'C:\\\\Users\\\\liang134\\\\Desktop\\\\Neurofeedback\\\\notebooks'"
      ]
     },
     "execution_count": 9,
     "metadata": {},
     "output_type": "execute_result"
    }
   ],
   "source": [
    "os.getcwd()"
   ]
  },
  {
   "cell_type": "code",
   "execution_count": 10,
   "metadata": {},
   "outputs": [],
   "source": [
    "%load_ext autoreload\n",
    "%autoreload 2"
   ]
  },
  {
   "cell_type": "code",
   "execution_count": 11,
   "metadata": {},
   "outputs": [],
   "source": [
    "import os, sys\n",
    "from scipy.io import loadmat\n",
    "import numpy as np"
   ]
  },
  {
   "cell_type": "code",
   "execution_count": 31,
   "metadata": {},
   "outputs": [],
   "source": [
    "from glob import glob\n",
    "import pandas as pd"
   ]
  },
  {
   "cell_type": "code",
   "execution_count": 39,
   "metadata": {},
   "outputs": [],
   "source": [
    "folders = glob('../data/*')"
   ]
  },
  {
   "cell_type": "code",
   "execution_count": 47,
   "metadata": {},
   "outputs": [
    {
     "data": {
      "text/plain": [
       "['../data\\\\NF101',\n",
       " '../data\\\\NF103',\n",
       " '../data\\\\NF104',\n",
       " '../data\\\\NF105',\n",
       " '../data\\\\NF106',\n",
       " '../data\\\\NF107',\n",
       " '../data\\\\NF108',\n",
       " '../data\\\\NF109',\n",
       " '../data\\\\NF110']"
      ]
     },
     "execution_count": 47,
     "metadata": {},
     "output_type": "execute_result"
    }
   ],
   "source": [
    "folders"
   ]
  },
  {
   "cell_type": "code",
   "execution_count": 49,
   "metadata": {},
   "outputs": [],
   "source": [
    "del folders[3]"
   ]
  },
  {
   "cell_type": "code",
   "execution_count": 51,
   "metadata": {},
   "outputs": [
    {
     "data": {
      "text/plain": [
       "['../data\\\\NF101',\n",
       " '../data\\\\NF103',\n",
       " '../data\\\\NF104',\n",
       " '../data\\\\NF106',\n",
       " '../data\\\\NF107',\n",
       " '../data\\\\NF108',\n",
       " '../data\\\\NF109',\n",
       " '../data\\\\NF110']"
      ]
     },
     "execution_count": 51,
     "metadata": {},
     "output_type": "execute_result"
    }
   ],
   "source": [
    "folders"
   ]
  },
  {
   "cell_type": "code",
   "execution_count": 52,
   "metadata": {},
   "outputs": [
    {
     "data": {
      "text/plain": [
       "['../data\\\\NF101',\n",
       " '../data\\\\NF103',\n",
       " '../data\\\\NF104',\n",
       " '../data\\\\NF106',\n",
       " '../data\\\\NF107',\n",
       " '../data\\\\NF108',\n",
       " '../data\\\\NF109']"
      ]
     },
     "execution_count": 52,
     "metadata": {},
     "output_type": "execute_result"
    }
   ],
   "source": [
    "del folders[7]\n",
    "folders"
   ]
  },
  {
   "cell_type": "code",
   "execution_count": 72,
   "metadata": {},
   "outputs": [
    {
     "name": "stdout",
     "output_type": "stream",
     "text": [
      "['../data\\\\NF101\\\\NF101_neg_beta_gamma.mat', '../data\\\\NF101\\\\NF101_pos_beta_gamma.mat']\n",
      "(96, 12)\n",
      "(96,)\n",
      "['../data\\\\NF103\\\\NF103_neg_beta_gamma.mat', '../data\\\\NF103\\\\NF103_pos_beta_gamma.mat']\n",
      "(96, 12)\n",
      "(96,)\n",
      "['../data\\\\NF104\\\\NF104_neg_beta_gamma.mat', '../data\\\\NF104\\\\NF104_pos_beta_gamma.mat']\n",
      "(96, 12)\n",
      "(96,)\n",
      "['../data\\\\NF106\\\\NF106_neg_beta_gamma.mat', '../data\\\\NF106\\\\NF106_pos_beta_gamma.mat']\n",
      "(96, 12)\n",
      "(96,)\n",
      "['../data\\\\NF107\\\\NF107_neg_beta_gamma.mat', '../data\\\\NF107\\\\NF107_pos_beta_gamma.mat']\n",
      "(96, 12)\n",
      "(96,)\n",
      "['../data\\\\NF108\\\\NF108_neg_beta_gamma.mat', '../data\\\\NF108\\\\NF108_pos_beta_gamma.mat']\n",
      "(96, 12)\n",
      "(96,)\n",
      "['../data\\\\NF109\\\\NF109_neg_beta_gamma.mat', '../data\\\\NF109\\\\NF109_pos_beta_gamma.mat']\n",
      "(96, 12)\n",
      "(96,)\n"
     ]
    }
   ],
   "source": [
    "dfs = []\n",
    "for folder in folders:\n",
    "    files = glob(folder+'/*.mat')\n",
    "    neg_features = loadmat(files[0])['freq_neg_beta_gamma']\n",
    "    pos_features = loadmat(files[1])['freq_pos_beta_gamma']\n",
    "    print(files)\n",
    "    y_pos = np.ones(pos_features.shape[0])\n",
    "    y_neg = np.zeros(pos_features.shape[0])\n",
    "    X = np.vstack([pos_features, neg_features])\n",
    "    y = np.concatenate([y_pos, y_neg])\n",
    "    print(X.shape)\n",
    "    print(y.shape)\n",
    "    clf_scores = pipeline.cross_validation(X, y, cv=10)\n",
    "    df_scores = {}\n",
    "    for score in clf_scores:\n",
    "        df_scores[score] = clf_scores[score][2]\n",
    "    df_scores['Subject'] = [folder] * len(clf_scores[score][2])\n",
    "    df = pd.DataFrame(df_scores)\n",
    "    dfs.append(df)"
   ]
  },
  {
   "cell_type": "code",
   "execution_count": null,
   "metadata": {},
   "outputs": [],
   "source": []
  },
  {
   "cell_type": "code",
   "execution_count": 73,
   "metadata": {},
   "outputs": [],
   "source": [
    "df = pd.concat(dfs, axis=0)"
   ]
  },
  {
   "cell_type": "code",
   "execution_count": 74,
   "metadata": {},
   "outputs": [
    {
     "data": {
      "text/plain": [
       "LR           0.548413\n",
       "RF           0.591587\n",
       "ADA          0.606825\n",
       "GB           0.607302\n",
       "QDA          0.609683\n",
       "LDA          0.541111\n",
       "LinearSVM    0.489524\n",
       "RBFSVM       0.336667\n",
       "dtype: float64"
      ]
     },
     "execution_count": 74,
     "metadata": {},
     "output_type": "execute_result"
    }
   ],
   "source": [
    "df.mean(0)"
   ]
  },
  {
   "cell_type": "code",
   "execution_count": 70,
   "metadata": {},
   "outputs": [
    {
     "data": {
      "text/plain": [
       "LR           0.177657\n",
       "RF           0.188235\n",
       "ADA          0.164758\n",
       "GB           0.164839\n",
       "QDA          0.162860\n",
       "LDA          0.142811\n",
       "LinearSVM    0.189410\n",
       "RBFSVM       0.110455\n",
       "dtype: float64"
      ]
     },
     "execution_count": 70,
     "metadata": {},
     "output_type": "execute_result"
    }
   ],
   "source": [
    "df.std(0)"
   ]
  },
  {
   "cell_type": "code",
   "execution_count": 71,
   "metadata": {},
   "outputs": [
    {
     "data": {
      "text/plain": [
       "(70, 8)"
      ]
     },
     "execution_count": 71,
     "metadata": {},
     "output_type": "execute_result"
    }
   ],
   "source": [
    "df.shape"
   ]
  },
  {
   "cell_type": "code",
   "execution_count": null,
   "metadata": {},
   "outputs": [],
   "source": []
  },
  {
   "cell_type": "code",
   "execution_count": null,
   "metadata": {},
   "outputs": [],
   "source": []
  },
  {
   "cell_type": "code",
   "execution_count": 60,
   "metadata": {},
   "outputs": [
    {
     "data": {
      "text/plain": [
       "LR           0.656667\n",
       "RF           0.595556\n",
       "ADA          0.527778\n",
       "GB           0.665556\n",
       "QDA          0.645556\n",
       "LDA          0.603333\n",
       "LinearSVM    0.673333\n",
       "RBFSVM       0.336667\n",
       "dtype: float64"
      ]
     },
     "execution_count": 60,
     "metadata": {},
     "output_type": "execute_result"
    }
   ],
   "source": [
    "dfs[0].mean(0)"
   ]
  },
  {
   "cell_type": "code",
   "execution_count": 61,
   "metadata": {},
   "outputs": [
    {
     "data": {
      "text/plain": [
       "LR           0.543333\n",
       "RF           0.687778\n",
       "ADA          0.665556\n",
       "GB           0.738889\n",
       "QDA          0.636667\n",
       "LDA          0.533333\n",
       "LinearSVM    0.507778\n",
       "RBFSVM       0.336667\n",
       "dtype: float64"
      ]
     },
     "execution_count": 61,
     "metadata": {},
     "output_type": "execute_result"
    }
   ],
   "source": [
    "dfs[1].mean(0)"
   ]
  },
  {
   "cell_type": "code",
   "execution_count": 63,
   "metadata": {},
   "outputs": [
    {
     "data": {
      "text/plain": [
       "LR           0.440000\n",
       "RF           0.532222\n",
       "ADA          0.544444\n",
       "GB           0.501111\n",
       "QDA          0.458889\n",
       "LDA          0.430000\n",
       "LinearSVM    0.421111\n",
       "RBFSVM       0.336667\n",
       "dtype: float64"
      ]
     },
     "execution_count": 63,
     "metadata": {},
     "output_type": "execute_result"
    }
   ],
   "source": [
    "dfs[2].mean(0)"
   ]
  },
  {
   "cell_type": "code",
   "execution_count": 64,
   "metadata": {},
   "outputs": [
    {
     "data": {
      "text/plain": [
       "LR           0.696667\n",
       "RF           0.761111\n",
       "ADA          0.721111\n",
       "GB           0.720000\n",
       "QDA          0.731111\n",
       "LDA          0.646667\n",
       "LinearSVM    0.677778\n",
       "RBFSVM       0.336667\n",
       "dtype: float64"
      ]
     },
     "execution_count": 64,
     "metadata": {},
     "output_type": "execute_result"
    }
   ],
   "source": [
    "dfs[3].mean(0)"
   ]
  },
  {
   "cell_type": "code",
   "execution_count": 65,
   "metadata": {},
   "outputs": [
    {
     "data": {
      "text/plain": [
       "LR           0.395556\n",
       "RF           0.441111\n",
       "ADA          0.563333\n",
       "GB           0.532222\n",
       "QDA          0.593333\n",
       "LDA          0.448889\n",
       "LinearSVM    0.573333\n",
       "RBFSVM       0.336667\n",
       "dtype: float64"
      ]
     },
     "execution_count": 65,
     "metadata": {},
     "output_type": "execute_result"
    }
   ],
   "source": [
    "dfs[4].mean(0)"
   ]
  },
  {
   "cell_type": "code",
   "execution_count": 66,
   "metadata": {},
   "outputs": [
    {
     "data": {
      "text/plain": [
       "LR           0.574444\n",
       "RF           0.435556\n",
       "ADA          0.543333\n",
       "GB           0.440000\n",
       "QDA          0.565556\n",
       "LDA          0.574444\n",
       "LinearSVM    0.512222\n",
       "RBFSVM       0.336667\n",
       "dtype: float64"
      ]
     },
     "execution_count": 66,
     "metadata": {},
     "output_type": "execute_result"
    }
   ],
   "source": [
    "dfs[5].mean(0)"
   ]
  },
  {
   "cell_type": "code",
   "execution_count": 67,
   "metadata": {},
   "outputs": [
    {
     "data": {
      "text/plain": [
       "LR           0.532222\n",
       "RF           0.684444\n",
       "ADA          0.672222\n",
       "GB           0.624444\n",
       "QDA          0.636667\n",
       "LDA          0.551111\n",
       "LinearSVM    0.478889\n",
       "RBFSVM       0.336667\n",
       "dtype: float64"
      ]
     },
     "execution_count": 67,
     "metadata": {},
     "output_type": "execute_result"
    }
   ],
   "source": [
    "dfs[6].mean(0)"
   ]
  },
  {
   "cell_type": "code",
   "execution_count": null,
   "metadata": {},
   "outputs": [],
   "source": []
  }
 ],
 "metadata": {
  "kernelspec": {
   "display_name": "Python 3",
   "language": "python",
   "name": "python3"
  },
  "language_info": {
   "codemirror_mode": {
    "name": "ipython",
    "version": 3
   },
   "file_extension": ".py",
   "mimetype": "text/x-python",
   "name": "python",
   "nbconvert_exporter": "python",
   "pygments_lexer": "ipython3",
   "version": "3.6.5"
  }
 },
 "nbformat": 4,
 "nbformat_minor": 2
}

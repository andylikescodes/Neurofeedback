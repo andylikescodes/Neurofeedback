{
 "cells": [
  {
   "cell_type": "code",
   "execution_count": 1,
   "metadata": {},
   "outputs": [],
   "source": [
    "import sys\n",
    "sys.path.append('../src/')\n",
    "\n",
    "from classification import pipeline"
   ]
  },
  {
   "cell_type": "code",
   "execution_count": 2,
   "metadata": {},
   "outputs": [],
   "source": [
    "import os"
   ]
  },
  {
   "cell_type": "code",
   "execution_count": 3,
   "metadata": {},
   "outputs": [
    {
     "data": {
      "text/plain": [
       "'C:\\\\Users\\\\liang134\\\\Desktop\\\\Neurofeedback\\\\notebooks'"
      ]
     },
     "execution_count": 3,
     "metadata": {},
     "output_type": "execute_result"
    }
   ],
   "source": [
    "os.getcwd()"
   ]
  },
  {
   "cell_type": "code",
   "execution_count": 4,
   "metadata": {},
   "outputs": [],
   "source": [
    "%load_ext autoreload\n",
    "%autoreload 2"
   ]
  },
  {
   "cell_type": "code",
   "execution_count": 5,
   "metadata": {},
   "outputs": [],
   "source": [
    "import os, sys\n",
    "from scipy.io import loadmat\n",
    "import numpy as np"
   ]
  },
  {
   "cell_type": "code",
   "execution_count": 6,
   "metadata": {},
   "outputs": [],
   "source": [
    "from glob import glob\n",
    "import pandas as pd"
   ]
  },
  {
   "cell_type": "code",
   "execution_count": 7,
   "metadata": {},
   "outputs": [],
   "source": [
    "folders = glob('../data/*')"
   ]
  },
  {
   "cell_type": "code",
   "execution_count": 8,
   "metadata": {},
   "outputs": [
    {
     "name": "stdout",
     "output_type": "stream",
     "text": [
      "['../data\\\\NF101', '../data\\\\NF103', '../data\\\\NF104', '../data\\\\NF105', '../data\\\\NF106', '../data\\\\NF107', '../data\\\\NF108', '../data\\\\NF109', '../data\\\\NF110']\n"
     ]
    }
   ],
   "source": [
    "print(folders)"
   ]
  },
  {
   "cell_type": "code",
   "execution_count": 10,
   "metadata": {},
   "outputs": [
    {
     "name": "stdout",
     "output_type": "stream",
     "text": [
      "['../data\\\\NF101\\\\NF101_neg_beta_gamma.mat', '../data\\\\NF101\\\\NF101_pos_beta_gamma.mat']\n",
      "(96, 12)\n",
      "(96,)\n",
      "['../data\\\\NF103\\\\NF103_neg_beta_gamma.mat', '../data\\\\NF103\\\\NF103_pos_beta_gamma.mat']\n",
      "(96, 12)\n",
      "(96,)\n",
      "['../data\\\\NF104\\\\NF104_neg_beta_gamma.mat', '../data\\\\NF104\\\\NF104_pos_beta_gamma.mat']\n",
      "(96, 12)\n",
      "(96,)\n",
      "['../data\\\\NF105\\\\NF105_neg_beta_gamma.mat', '../data\\\\NF105\\\\NF105_pos_beta_gamma.mat']\n",
      "(48, 12)\n",
      "(48,)\n",
      "['../data\\\\NF106\\\\NF106_neg_beta_gamma.mat', '../data\\\\NF106\\\\NF106_pos_beta_gamma.mat']\n",
      "(96, 12)\n",
      "(96,)\n",
      "['../data\\\\NF107\\\\NF107_neg_beta_gamma.mat', '../data\\\\NF107\\\\NF107_pos_beta_gamma.mat']\n",
      "(96, 12)\n",
      "(96,)\n",
      "['../data\\\\NF108\\\\NF108_neg_beta_gamma.mat', '../data\\\\NF108\\\\NF108_pos_beta_gamma.mat']\n",
      "(96, 12)\n",
      "(96,)\n",
      "['../data\\\\NF109\\\\NF109_neg_beta_gamma.mat', '../data\\\\NF109\\\\NF109_pos_beta_gamma.mat']\n",
      "(96, 12)\n",
      "(96,)\n",
      "['../data\\\\NF110\\\\NF110_neg_beta_gamma.mat', '../data\\\\NF110\\\\NF110_pos_beta_gamma.mat']\n",
      "(96, 12)\n",
      "(96,)\n"
     ]
    }
   ],
   "source": [
    "dfs = []\n",
    "for folder in folders:\n",
    "    files = glob(folder+'/*.mat')\n",
    "    neg_features = loadmat(files[0])['freq_neg_beta_gamma']\n",
    "    pos_features = loadmat(files[1])['freq_pos_beta_gamma']\n",
    "    print(files)\n",
    "    y_pos = np.ones(pos_features.shape[0])\n",
    "    y_neg = np.zeros(pos_features.shape[0])\n",
    "    X = np.vstack([pos_features, neg_features])\n",
    "    y = np.concatenate([y_pos, y_neg])\n",
    "    print(X.shape)\n",
    "    print(y.shape)\n",
    "    clf_scores = pipeline.cross_validation(X, y, cv=10, bootstrap_shuffle=True)\n",
    "    df_scores = {}\n",
    "    for score in clf_scores:\n",
    "        df_scores[score] = clf_scores[score][2]\n",
    "    df_scores['Subject'] = [folder] * len(clf_scores[score][2])\n",
    "    df_scores['feature_size'] = [X.shape for i in range(len(clf_scores[score][2]))]\n",
    "    df = pd.DataFrame(df_scores)\n",
    "    dfs.append(df)"
   ]
  },
  {
   "cell_type": "code",
   "execution_count": null,
   "metadata": {},
   "outputs": [
    {
     "name": "stdout",
     "output_type": "stream",
     "text": [
      "['../data\\\\NF101\\\\NF101_neg_beta_gamma.mat', '../data\\\\NF101\\\\NF101_pos_beta_gamma.mat']\n",
      "(96, 12)\n",
      "(96,)\n",
      "['../data\\\\NF103\\\\NF103_neg_beta_gamma.mat', '../data\\\\NF103\\\\NF103_pos_beta_gamma.mat']\n",
      "(96, 12)\n",
      "(96,)\n",
      "['../data\\\\NF104\\\\NF104_neg_beta_gamma.mat', '../data\\\\NF104\\\\NF104_pos_beta_gamma.mat']\n",
      "(96, 12)\n",
      "(96,)\n",
      "['../data\\\\NF105\\\\NF105_neg_beta_gamma.mat', '../data\\\\NF105\\\\NF105_pos_beta_gamma.mat']\n",
      "(48, 12)\n",
      "(48,)\n",
      "['../data\\\\NF106\\\\NF106_neg_beta_gamma.mat', '../data\\\\NF106\\\\NF106_pos_beta_gamma.mat']\n",
      "(96, 12)\n",
      "(96,)\n",
      "['../data\\\\NF107\\\\NF107_neg_beta_gamma.mat', '../data\\\\NF107\\\\NF107_pos_beta_gamma.mat']\n",
      "(96, 12)\n",
      "(96,)\n",
      "['../data\\\\NF108\\\\NF108_neg_beta_gamma.mat', '../data\\\\NF108\\\\NF108_pos_beta_gamma.mat']\n",
      "(96, 12)\n",
      "(96,)\n",
      "['../data\\\\NF109\\\\NF109_neg_beta_gamma.mat', '../data\\\\NF109\\\\NF109_pos_beta_gamma.mat']\n",
      "(96, 12)\n",
      "(96,)\n",
      "['../data\\\\NF110\\\\NF110_neg_beta_gamma.mat', '../data\\\\NF110\\\\NF110_pos_beta_gamma.mat']\n",
      "(96, 12)\n",
      "(96,)\n"
     ]
    }
   ],
   "source": [
    "dfs = []\n",
    "all_output = []\n",
    "for folder in folders:\n",
    "    files = glob(folder+'/*.mat')\n",
    "    neg_features = loadmat(files[0])['freq_neg_beta_gamma']\n",
    "    pos_features = loadmat(files[1])['freq_pos_beta_gamma']\n",
    "    print(files)\n",
    "    y_pos = np.ones(pos_features.shape[0])\n",
    "    y_neg = np.zeros(pos_features.shape[0])\n",
    "    X = np.vstack([pos_features, neg_features])\n",
    "    y = np.concatenate([y_pos, y_neg])\n",
    "    print(X.shape)\n",
    "    print(y.shape)\n",
    "    clf_scores = pipeline.cross_validation(X, y, cv=10, bootstrap_shuffle=1000)\n",
    "    df_scores = {}\n",
    "    for score in clf_scores:\n",
    "        df_scores[score] = clf_scores[score][2]\n",
    "    df_scores['Subject'] = [folder] * len(clf_scores[score][2])\n",
    "    df_scores['feature_size'] = [X.shape for i in range(len(clf_scores[score][2]))]\n",
    "    df = pd.DataFrame(df_scores)\n",
    "    dfs.append(df)\n",
    "    all_output.append(clf_scores)"
   ]
  },
  {
   "cell_type": "code",
   "execution_count": null,
   "metadata": {},
   "outputs": [],
   "source": [
    "df = pd.concat(dfs, axis=0)"
   ]
  },
  {
   "cell_type": "code",
   "execution_count": null,
   "metadata": {},
   "outputs": [],
   "source": []
  },
  {
   "cell_type": "code",
   "execution_count": null,
   "metadata": {},
   "outputs": [],
   "source": []
  },
  {
   "cell_type": "code",
   "execution_count": 11,
   "metadata": {},
   "outputs": [],
   "source": [
    "df = pd.concat(dfs, axis=0)"
   ]
  },
  {
   "cell_type": "code",
   "execution_count": 13,
   "metadata": {},
   "outputs": [
    {
     "data": {
      "text/html": [
       "<div>\n",
       "<style scoped>\n",
       "    .dataframe tbody tr th:only-of-type {\n",
       "        vertical-align: middle;\n",
       "    }\n",
       "\n",
       "    .dataframe tbody tr th {\n",
       "        vertical-align: top;\n",
       "    }\n",
       "\n",
       "    .dataframe thead th {\n",
       "        text-align: right;\n",
       "    }\n",
       "</style>\n",
       "<table border=\"1\" class=\"dataframe\">\n",
       "  <thead>\n",
       "    <tr style=\"text-align: right;\">\n",
       "      <th></th>\n",
       "      <th>LR</th>\n",
       "      <th>RF</th>\n",
       "      <th>ADA</th>\n",
       "      <th>GB</th>\n",
       "      <th>QDA</th>\n",
       "      <th>LDA</th>\n",
       "      <th>LinearSVM</th>\n",
       "      <th>RBFSVM</th>\n",
       "      <th>Subject</th>\n",
       "      <th>feature_size</th>\n",
       "    </tr>\n",
       "  </thead>\n",
       "  <tbody>\n",
       "    <tr>\n",
       "      <th>0</th>\n",
       "      <td>0.533333</td>\n",
       "      <td>0.568889</td>\n",
       "      <td>0.477778</td>\n",
       "      <td>0.565556</td>\n",
       "      <td>0.478889</td>\n",
       "      <td>0.342222</td>\n",
       "      <td>0.491111</td>\n",
       "      <td>0.343333</td>\n",
       "      <td>../data\\NF101</td>\n",
       "      <td>(96, 12)</td>\n",
       "    </tr>\n",
       "    <tr>\n",
       "      <th>0</th>\n",
       "      <td>0.587778</td>\n",
       "      <td>0.515556</td>\n",
       "      <td>0.485556</td>\n",
       "      <td>0.571111</td>\n",
       "      <td>0.427778</td>\n",
       "      <td>0.574444</td>\n",
       "      <td>0.533333</td>\n",
       "      <td>0.387778</td>\n",
       "      <td>../data\\NF103</td>\n",
       "      <td>(96, 12)</td>\n",
       "    </tr>\n",
       "    <tr>\n",
       "      <th>0</th>\n",
       "      <td>0.530000</td>\n",
       "      <td>0.584444</td>\n",
       "      <td>0.460000</td>\n",
       "      <td>0.348889</td>\n",
       "      <td>0.430000</td>\n",
       "      <td>0.607778</td>\n",
       "      <td>0.522222</td>\n",
       "      <td>0.416667</td>\n",
       "      <td>../data\\NF104</td>\n",
       "      <td>(96, 12)</td>\n",
       "    </tr>\n",
       "    <tr>\n",
       "      <th>0</th>\n",
       "      <td>0.335000</td>\n",
       "      <td>0.460000</td>\n",
       "      <td>0.500000</td>\n",
       "      <td>0.620000</td>\n",
       "      <td>0.535000</td>\n",
       "      <td>0.490000</td>\n",
       "      <td>0.480000</td>\n",
       "      <td>0.230000</td>\n",
       "      <td>../data\\NF105</td>\n",
       "      <td>(48, 12)</td>\n",
       "    </tr>\n",
       "    <tr>\n",
       "      <th>0</th>\n",
       "      <td>0.528889</td>\n",
       "      <td>0.408889</td>\n",
       "      <td>0.466667</td>\n",
       "      <td>0.476667</td>\n",
       "      <td>0.488889</td>\n",
       "      <td>0.485556</td>\n",
       "      <td>0.531111</td>\n",
       "      <td>0.405556</td>\n",
       "      <td>../data\\NF106</td>\n",
       "      <td>(96, 12)</td>\n",
       "    </tr>\n",
       "    <tr>\n",
       "      <th>0</th>\n",
       "      <td>0.614444</td>\n",
       "      <td>0.426667</td>\n",
       "      <td>0.428889</td>\n",
       "      <td>0.467778</td>\n",
       "      <td>0.480000</td>\n",
       "      <td>0.510000</td>\n",
       "      <td>0.542222</td>\n",
       "      <td>0.416667</td>\n",
       "      <td>../data\\NF107</td>\n",
       "      <td>(96, 12)</td>\n",
       "    </tr>\n",
       "    <tr>\n",
       "      <th>0</th>\n",
       "      <td>0.497778</td>\n",
       "      <td>0.483333</td>\n",
       "      <td>0.457778</td>\n",
       "      <td>0.511111</td>\n",
       "      <td>0.501111</td>\n",
       "      <td>0.487778</td>\n",
       "      <td>0.482222</td>\n",
       "      <td>0.362222</td>\n",
       "      <td>../data\\NF108</td>\n",
       "      <td>(96, 12)</td>\n",
       "    </tr>\n",
       "    <tr>\n",
       "      <th>0</th>\n",
       "      <td>0.504444</td>\n",
       "      <td>0.515556</td>\n",
       "      <td>0.501111</td>\n",
       "      <td>0.541111</td>\n",
       "      <td>0.540000</td>\n",
       "      <td>0.470000</td>\n",
       "      <td>0.542222</td>\n",
       "      <td>0.396667</td>\n",
       "      <td>../data\\NF109</td>\n",
       "      <td>(96, 12)</td>\n",
       "    </tr>\n",
       "    <tr>\n",
       "      <th>0</th>\n",
       "      <td>0.447778</td>\n",
       "      <td>0.471111</td>\n",
       "      <td>0.478889</td>\n",
       "      <td>0.390000</td>\n",
       "      <td>0.478889</td>\n",
       "      <td>0.532222</td>\n",
       "      <td>0.535556</td>\n",
       "      <td>0.375556</td>\n",
       "      <td>../data\\NF110</td>\n",
       "      <td>(96, 12)</td>\n",
       "    </tr>\n",
       "  </tbody>\n",
       "</table>\n",
       "</div>"
      ],
      "text/plain": [
       "         LR        RF       ADA        GB       QDA       LDA  LinearSVM  \\\n",
       "0  0.533333  0.568889  0.477778  0.565556  0.478889  0.342222   0.491111   \n",
       "0  0.587778  0.515556  0.485556  0.571111  0.427778  0.574444   0.533333   \n",
       "0  0.530000  0.584444  0.460000  0.348889  0.430000  0.607778   0.522222   \n",
       "0  0.335000  0.460000  0.500000  0.620000  0.535000  0.490000   0.480000   \n",
       "0  0.528889  0.408889  0.466667  0.476667  0.488889  0.485556   0.531111   \n",
       "0  0.614444  0.426667  0.428889  0.467778  0.480000  0.510000   0.542222   \n",
       "0  0.497778  0.483333  0.457778  0.511111  0.501111  0.487778   0.482222   \n",
       "0  0.504444  0.515556  0.501111  0.541111  0.540000  0.470000   0.542222   \n",
       "0  0.447778  0.471111  0.478889  0.390000  0.478889  0.532222   0.535556   \n",
       "\n",
       "     RBFSVM        Subject feature_size  \n",
       "0  0.343333  ../data\\NF101     (96, 12)  \n",
       "0  0.387778  ../data\\NF103     (96, 12)  \n",
       "0  0.416667  ../data\\NF104     (96, 12)  \n",
       "0  0.230000  ../data\\NF105     (48, 12)  \n",
       "0  0.405556  ../data\\NF106     (96, 12)  \n",
       "0  0.416667  ../data\\NF107     (96, 12)  \n",
       "0  0.362222  ../data\\NF108     (96, 12)  \n",
       "0  0.396667  ../data\\NF109     (96, 12)  \n",
       "0  0.375556  ../data\\NF110     (96, 12)  "
      ]
     },
     "execution_count": 13,
     "metadata": {},
     "output_type": "execute_result"
    }
   ],
   "source": [
    "df"
   ]
  },
  {
   "cell_type": "code",
   "execution_count": 12,
   "metadata": {},
   "outputs": [
    {
     "data": {
      "text/plain": [
       "LR           0.498210\n",
       "RF           0.538333\n",
       "ADA          0.499321\n",
       "GB           0.482654\n",
       "QDA          0.500926\n",
       "LDA          0.477222\n",
       "LinearSVM    0.496420\n",
       "RBFSVM       0.368457\n",
       "dtype: float64"
      ]
     },
     "execution_count": 12,
     "metadata": {},
     "output_type": "execute_result"
    }
   ],
   "source": [
    "df.mean(0)"
   ]
  },
  {
   "cell_type": "code",
   "execution_count": 85,
   "metadata": {},
   "outputs": [],
   "source": [
    "df.to_csv('../output/results.csv', index=False)"
   ]
  },
  {
   "cell_type": "code",
   "execution_count": 13,
   "metadata": {},
   "outputs": [
    {
     "data": {
      "text/html": [
       "<div>\n",
       "<style scoped>\n",
       "    .dataframe tbody tr th:only-of-type {\n",
       "        vertical-align: middle;\n",
       "    }\n",
       "\n",
       "    .dataframe tbody tr th {\n",
       "        vertical-align: top;\n",
       "    }\n",
       "\n",
       "    .dataframe thead th {\n",
       "        text-align: right;\n",
       "    }\n",
       "</style>\n",
       "<table border=\"1\" class=\"dataframe\">\n",
       "  <thead>\n",
       "    <tr style=\"text-align: right;\">\n",
       "      <th></th>\n",
       "      <th>LR</th>\n",
       "      <th>RF</th>\n",
       "      <th>ADA</th>\n",
       "      <th>GB</th>\n",
       "      <th>QDA</th>\n",
       "      <th>LDA</th>\n",
       "      <th>LinearSVM</th>\n",
       "      <th>RBFSVM</th>\n",
       "      <th>Subject</th>\n",
       "      <th>feature_size</th>\n",
       "    </tr>\n",
       "  </thead>\n",
       "  <tbody>\n",
       "    <tr>\n",
       "      <th>0</th>\n",
       "      <td>0.7</td>\n",
       "      <td>0.6</td>\n",
       "      <td>0.6</td>\n",
       "      <td>0.4</td>\n",
       "      <td>0.5</td>\n",
       "      <td>0.5</td>\n",
       "      <td>0.6</td>\n",
       "      <td>0.4</td>\n",
       "      <td>../data\\NF101</td>\n",
       "      <td>(96, 12)</td>\n",
       "    </tr>\n",
       "    <tr>\n",
       "      <th>1</th>\n",
       "      <td>0.3</td>\n",
       "      <td>0.6</td>\n",
       "      <td>0.3</td>\n",
       "      <td>0.5</td>\n",
       "      <td>0.3</td>\n",
       "      <td>0.4</td>\n",
       "      <td>0.7</td>\n",
       "      <td>0.4</td>\n",
       "      <td>../data\\NF101</td>\n",
       "      <td>(96, 12)</td>\n",
       "    </tr>\n",
       "    <tr>\n",
       "      <th>2</th>\n",
       "      <td>0.6</td>\n",
       "      <td>0.7</td>\n",
       "      <td>0.6</td>\n",
       "      <td>0.6</td>\n",
       "      <td>0.5</td>\n",
       "      <td>0.3</td>\n",
       "      <td>0.6</td>\n",
       "      <td>0.4</td>\n",
       "      <td>../data\\NF101</td>\n",
       "      <td>(96, 12)</td>\n",
       "    </tr>\n",
       "    <tr>\n",
       "      <th>3</th>\n",
       "      <td>0.4</td>\n",
       "      <td>0.5</td>\n",
       "      <td>0.4</td>\n",
       "      <td>0.6</td>\n",
       "      <td>0.8</td>\n",
       "      <td>0.3</td>\n",
       "      <td>0.7</td>\n",
       "      <td>0.3</td>\n",
       "      <td>../data\\NF101</td>\n",
       "      <td>(96, 12)</td>\n",
       "    </tr>\n",
       "    <tr>\n",
       "      <th>4</th>\n",
       "      <td>0.8</td>\n",
       "      <td>0.3</td>\n",
       "      <td>0.4</td>\n",
       "      <td>0.4</td>\n",
       "      <td>0.9</td>\n",
       "      <td>0.3</td>\n",
       "      <td>0.8</td>\n",
       "      <td>0.3</td>\n",
       "      <td>../data\\NF101</td>\n",
       "      <td>(96, 12)</td>\n",
       "    </tr>\n",
       "  </tbody>\n",
       "</table>\n",
       "</div>"
      ],
      "text/plain": [
       "    LR   RF  ADA   GB  QDA  LDA  LinearSVM  RBFSVM        Subject feature_size\n",
       "0  0.7  0.6  0.6  0.4  0.5  0.5        0.6     0.4  ../data\\NF101     (96, 12)\n",
       "1  0.3  0.6  0.3  0.5  0.3  0.4        0.7     0.4  ../data\\NF101     (96, 12)\n",
       "2  0.6  0.7  0.6  0.6  0.5  0.3        0.6     0.4  ../data\\NF101     (96, 12)\n",
       "3  0.4  0.5  0.4  0.6  0.8  0.3        0.7     0.3  ../data\\NF101     (96, 12)\n",
       "4  0.8  0.3  0.4  0.4  0.9  0.3        0.8     0.3  ../data\\NF101     (96, 12)"
      ]
     },
     "execution_count": 13,
     "metadata": {},
     "output_type": "execute_result"
    }
   ],
   "source": [
    "df.head()"
   ]
  },
  {
   "cell_type": "code",
   "execution_count": 14,
   "metadata": {},
   "outputs": [
    {
     "data": {
      "text/plain": [
       "LR           0.177969\n",
       "RF           0.157091\n",
       "ADA          0.159156\n",
       "GB           0.164277\n",
       "QDA          0.159673\n",
       "LDA          0.180238\n",
       "LinearSVM    0.158388\n",
       "RBFSVM       0.100925\n",
       "dtype: float64"
      ]
     },
     "execution_count": 14,
     "metadata": {},
     "output_type": "execute_result"
    }
   ],
   "source": [
    "df.std(0)"
   ]
  },
  {
   "cell_type": "code",
   "execution_count": 71,
   "metadata": {},
   "outputs": [
    {
     "data": {
      "text/plain": [
       "(70, 8)"
      ]
     },
     "execution_count": 71,
     "metadata": {},
     "output_type": "execute_result"
    }
   ],
   "source": [
    "df.shape"
   ]
  },
  {
   "cell_type": "code",
   "execution_count": null,
   "metadata": {},
   "outputs": [],
   "source": []
  },
  {
   "cell_type": "code",
   "execution_count": null,
   "metadata": {},
   "outputs": [],
   "source": []
  },
  {
   "cell_type": "code",
   "execution_count": 60,
   "metadata": {},
   "outputs": [
    {
     "data": {
      "text/plain": [
       "LR           0.656667\n",
       "RF           0.595556\n",
       "ADA          0.527778\n",
       "GB           0.665556\n",
       "QDA          0.645556\n",
       "LDA          0.603333\n",
       "LinearSVM    0.673333\n",
       "RBFSVM       0.336667\n",
       "dtype: float64"
      ]
     },
     "execution_count": 60,
     "metadata": {},
     "output_type": "execute_result"
    }
   ],
   "source": [
    "dfs[0].mean(0)"
   ]
  },
  {
   "cell_type": "code",
   "execution_count": 61,
   "metadata": {},
   "outputs": [
    {
     "data": {
      "text/plain": [
       "LR           0.543333\n",
       "RF           0.687778\n",
       "ADA          0.665556\n",
       "GB           0.738889\n",
       "QDA          0.636667\n",
       "LDA          0.533333\n",
       "LinearSVM    0.507778\n",
       "RBFSVM       0.336667\n",
       "dtype: float64"
      ]
     },
     "execution_count": 61,
     "metadata": {},
     "output_type": "execute_result"
    }
   ],
   "source": [
    "dfs[1].mean(0)"
   ]
  },
  {
   "cell_type": "code",
   "execution_count": 63,
   "metadata": {},
   "outputs": [
    {
     "data": {
      "text/plain": [
       "LR           0.440000\n",
       "RF           0.532222\n",
       "ADA          0.544444\n",
       "GB           0.501111\n",
       "QDA          0.458889\n",
       "LDA          0.430000\n",
       "LinearSVM    0.421111\n",
       "RBFSVM       0.336667\n",
       "dtype: float64"
      ]
     },
     "execution_count": 63,
     "metadata": {},
     "output_type": "execute_result"
    }
   ],
   "source": [
    "dfs[2].mean(0)"
   ]
  },
  {
   "cell_type": "code",
   "execution_count": 64,
   "metadata": {},
   "outputs": [
    {
     "data": {
      "text/plain": [
       "LR           0.696667\n",
       "RF           0.761111\n",
       "ADA          0.721111\n",
       "GB           0.720000\n",
       "QDA          0.731111\n",
       "LDA          0.646667\n",
       "LinearSVM    0.677778\n",
       "RBFSVM       0.336667\n",
       "dtype: float64"
      ]
     },
     "execution_count": 64,
     "metadata": {},
     "output_type": "execute_result"
    }
   ],
   "source": [
    "dfs[3].mean(0)"
   ]
  },
  {
   "cell_type": "code",
   "execution_count": 65,
   "metadata": {},
   "outputs": [
    {
     "data": {
      "text/plain": [
       "LR           0.395556\n",
       "RF           0.441111\n",
       "ADA          0.563333\n",
       "GB           0.532222\n",
       "QDA          0.593333\n",
       "LDA          0.448889\n",
       "LinearSVM    0.573333\n",
       "RBFSVM       0.336667\n",
       "dtype: float64"
      ]
     },
     "execution_count": 65,
     "metadata": {},
     "output_type": "execute_result"
    }
   ],
   "source": [
    "dfs[4].mean(0)"
   ]
  },
  {
   "cell_type": "code",
   "execution_count": 66,
   "metadata": {},
   "outputs": [
    {
     "data": {
      "text/plain": [
       "LR           0.574444\n",
       "RF           0.435556\n",
       "ADA          0.543333\n",
       "GB           0.440000\n",
       "QDA          0.565556\n",
       "LDA          0.574444\n",
       "LinearSVM    0.512222\n",
       "RBFSVM       0.336667\n",
       "dtype: float64"
      ]
     },
     "execution_count": 66,
     "metadata": {},
     "output_type": "execute_result"
    }
   ],
   "source": [
    "dfs[5].mean(0)"
   ]
  },
  {
   "cell_type": "code",
   "execution_count": 67,
   "metadata": {},
   "outputs": [
    {
     "data": {
      "text/plain": [
       "LR           0.532222\n",
       "RF           0.684444\n",
       "ADA          0.672222\n",
       "GB           0.624444\n",
       "QDA          0.636667\n",
       "LDA          0.551111\n",
       "LinearSVM    0.478889\n",
       "RBFSVM       0.336667\n",
       "dtype: float64"
      ]
     },
     "execution_count": 67,
     "metadata": {},
     "output_type": "execute_result"
    }
   ],
   "source": [
    "dfs[6].mean(0)"
   ]
  },
  {
   "cell_type": "code",
   "execution_count": null,
   "metadata": {},
   "outputs": [],
   "source": []
  }
 ],
 "metadata": {
  "kernelspec": {
   "display_name": "Python 3",
   "language": "python",
   "name": "python3"
  },
  "language_info": {
   "codemirror_mode": {
    "name": "ipython",
    "version": 3
   },
   "file_extension": ".py",
   "mimetype": "text/x-python",
   "name": "python",
   "nbconvert_exporter": "python",
   "pygments_lexer": "ipython3",
   "version": "3.6.5"
  }
 },
 "nbformat": 4,
 "nbformat_minor": 2
}

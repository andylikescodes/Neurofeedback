{
 "cells": [
  {
   "cell_type": "code",
   "execution_count": 101,
   "metadata": {},
   "outputs": [],
   "source": [
    "import sys\n",
    "sys.path.append('../src/')\n",
    "\n",
    "from classification import pipeline"
   ]
  },
  {
   "cell_type": "code",
   "execution_count": 81,
   "metadata": {},
   "outputs": [
    {
     "name": "stdout",
     "output_type": "stream",
     "text": [
      "The autoreload extension is already loaded. To reload it, use:\n",
      "  %reload_ext autoreload\n"
     ]
    }
   ],
   "source": [
    "%load_ext autoreload\n",
    "%autoreload 2"
   ]
  },
  {
   "cell_type": "code",
   "execution_count": 82,
   "metadata": {},
   "outputs": [],
   "source": [
    "import os, sys\n",
    "from scipy.io import loadmat\n",
    "import numpy as np"
   ]
  },
  {
   "cell_type": "code",
   "execution_count": 83,
   "metadata": {},
   "outputs": [],
   "source": [
    "folder = '../data/NF103'\n",
    "filename = 'NF103_neg_beta_gamma.mat'\n",
    "filepath = os.path.join(folder, filename)"
   ]
  },
  {
   "cell_type": "code",
   "execution_count": 84,
   "metadata": {},
   "outputs": [],
   "source": [
    "data = loadmat(filepath)"
   ]
  },
  {
   "cell_type": "code",
   "execution_count": 85,
   "metadata": {},
   "outputs": [],
   "source": [
    "neg_features = data['freq_neg_beta_gamma']"
   ]
  },
  {
   "cell_type": "code",
   "execution_count": 86,
   "metadata": {},
   "outputs": [],
   "source": [
    "folder = '../data/NF103'\n",
    "filename = 'NF103_pos_beta_gamma.mat'\n",
    "filepath = os.path.join(folder, filename)"
   ]
  },
  {
   "cell_type": "code",
   "execution_count": 87,
   "metadata": {},
   "outputs": [],
   "source": [
    "data = loadmat(filepath)"
   ]
  },
  {
   "cell_type": "code",
   "execution_count": 88,
   "metadata": {},
   "outputs": [],
   "source": [
    "pos_features = data['freq_pos_beta_gamma']"
   ]
  },
  {
   "cell_type": "code",
   "execution_count": 89,
   "metadata": {},
   "outputs": [
    {
     "data": {
      "text/plain": [
       "(48, 12)"
      ]
     },
     "execution_count": 89,
     "metadata": {},
     "output_type": "execute_result"
    }
   ],
   "source": [
    "pos_features.shape"
   ]
  },
  {
   "cell_type": "code",
   "execution_count": 90,
   "metadata": {},
   "outputs": [
    {
     "data": {
      "text/plain": [
       "(48, 12)"
      ]
     },
     "execution_count": 90,
     "metadata": {},
     "output_type": "execute_result"
    }
   ],
   "source": [
    "neg_features.shape"
   ]
  },
  {
   "cell_type": "code",
   "execution_count": 91,
   "metadata": {},
   "outputs": [],
   "source": [
    "y_pos = np.ones(pos_features.shape[0])\n",
    "y_neg = np.zeros(pos_features.shape[0])"
   ]
  },
  {
   "cell_type": "code",
   "execution_count": 92,
   "metadata": {},
   "outputs": [],
   "source": [
    "X = np.vstack([pos_features, neg_features])\n",
    "y = np.concatenate([y_pos, y_neg])"
   ]
  },
  {
   "cell_type": "code",
   "execution_count": 93,
   "metadata": {},
   "outputs": [
    {
     "data": {
      "text/plain": [
       "array([1., 1., 1., 1., 1., 1., 1., 1., 1., 1., 1., 1., 1., 1., 1., 1., 1.,\n",
       "       1., 1., 1., 1., 1., 1., 1., 1., 1., 1., 1., 1., 1., 1., 1., 1., 1.,\n",
       "       1., 1., 1., 1., 1., 1., 1., 1., 1., 1., 1., 1., 1., 1., 0., 0., 0.,\n",
       "       0., 0., 0., 0., 0., 0., 0., 0., 0., 0., 0., 0., 0., 0., 0., 0., 0.,\n",
       "       0., 0., 0., 0., 0., 0., 0., 0., 0., 0., 0., 0., 0., 0., 0., 0., 0.,\n",
       "       0., 0., 0., 0., 0., 0., 0., 0., 0., 0., 0.])"
      ]
     },
     "execution_count": 93,
     "metadata": {},
     "output_type": "execute_result"
    }
   ],
   "source": [
    "y"
   ]
  },
  {
   "cell_type": "code",
   "execution_count": 94,
   "metadata": {},
   "outputs": [
    {
     "data": {
      "text/plain": [
       "array([1.00000000e-02, 3.59381366e-02, 1.29154967e-01, 4.64158883e-01,\n",
       "       1.66810054e+00, 5.99484250e+00, 2.15443469e+01, 7.74263683e+01,\n",
       "       2.78255940e+02, 1.00000000e+03])"
      ]
     },
     "execution_count": 94,
     "metadata": {},
     "output_type": "execute_result"
    }
   ],
   "source": [
    "np.logspace(-2, 3.0, 10, base=10)"
   ]
  },
  {
   "cell_type": "code",
   "execution_count": 102,
   "metadata": {},
   "outputs": [],
   "source": [
    "X_train, X_test, y_train, y_test = pipeline.general_preprocessing(X, y)"
   ]
  },
  {
   "cell_type": "code",
   "execution_count": 103,
   "metadata": {},
   "outputs": [
    {
     "data": {
      "text/plain": [
       "(72, 12)"
      ]
     },
     "execution_count": 103,
     "metadata": {},
     "output_type": "execute_result"
    }
   ],
   "source": [
    "X_train.shape"
   ]
  },
  {
   "cell_type": "code",
   "execution_count": 119,
   "metadata": {},
   "outputs": [],
   "source": [
    "clf_scores = pipeline.cross_validation(X, y, cv=10)"
   ]
  },
  {
   "cell_type": "code",
   "execution_count": 120,
   "metadata": {},
   "outputs": [
    {
     "data": {
      "text/plain": [
       "{'LR': (0.5433333333333333,\n",
       "  0.16196707484341788,\n",
       "  [0.2,\n",
       "   0.7,\n",
       "   0.5,\n",
       "   0.7,\n",
       "   0.5,\n",
       "   0.5,\n",
       "   0.6666666666666666,\n",
       "   0.7777777777777778,\n",
       "   0.4444444444444444,\n",
       "   0.4444444444444444]),\n",
       " 'RF': (0.7277777777777777,\n",
       "  0.10786937688304223,\n",
       "  [0.9,\n",
       "   0.9,\n",
       "   0.7,\n",
       "   0.7,\n",
       "   0.6,\n",
       "   0.7,\n",
       "   0.6666666666666666,\n",
       "   0.7777777777777778,\n",
       "   0.7777777777777778,\n",
       "   0.5555555555555556]),\n",
       " 'ADA': (0.6655555555555556,\n",
       "  0.12317306904624732,\n",
       "  [0.6,\n",
       "   0.9,\n",
       "   0.8,\n",
       "   0.6,\n",
       "   0.6,\n",
       "   0.6,\n",
       "   0.6666666666666666,\n",
       "   0.6666666666666666,\n",
       "   0.7777777777777778,\n",
       "   0.4444444444444444]),\n",
       " 'GB': (0.7188888888888889,\n",
       "  0.11200198410940963,\n",
       "  [0.7,\n",
       "   0.9,\n",
       "   0.8,\n",
       "   0.7,\n",
       "   0.5,\n",
       "   0.7,\n",
       "   0.6666666666666666,\n",
       "   0.6666666666666666,\n",
       "   0.8888888888888888,\n",
       "   0.6666666666666666]),\n",
       " 'QDA': (0.6366666666666667,\n",
       "  0.09951115081136619,\n",
       "  [0.7,\n",
       "   0.7,\n",
       "   0.6,\n",
       "   0.6,\n",
       "   0.4,\n",
       "   0.7,\n",
       "   0.6666666666666666,\n",
       "   0.5555555555555556,\n",
       "   0.6666666666666666,\n",
       "   0.7777777777777778]),\n",
       " 'LDA': (0.5333333333333334,\n",
       "  0.12462288793608846,\n",
       "  [0.4,\n",
       "   0.6,\n",
       "   0.4,\n",
       "   0.7,\n",
       "   0.4,\n",
       "   0.5,\n",
       "   0.7777777777777778,\n",
       "   0.5555555555555556,\n",
       "   0.4444444444444444,\n",
       "   0.5555555555555556]),\n",
       " 'LinearSVM': (0.5022222222222223,\n",
       "  0.1271530622303997,\n",
       "  [0.3,\n",
       "   0.3,\n",
       "   0.6,\n",
       "   0.5,\n",
       "   0.6,\n",
       "   0.5,\n",
       "   0.6666666666666666,\n",
       "   0.4444444444444444,\n",
       "   0.6666666666666666,\n",
       "   0.4444444444444444]),\n",
       " 'RBFSVM': (0.3366666666666667,\n",
       "  0.10966278277485905,\n",
       "  [0.3,\n",
       "   0.3,\n",
       "   0.4,\n",
       "   0.2,\n",
       "   0.1,\n",
       "   0.4,\n",
       "   0.4444444444444444,\n",
       "   0.3333333333333333,\n",
       "   0.4444444444444444,\n",
       "   0.4444444444444444])}"
      ]
     },
     "execution_count": 120,
     "metadata": {},
     "output_type": "execute_result"
    }
   ],
   "source": [
    "clf_scores"
   ]
  },
  {
   "cell_type": "code",
   "execution_count": null,
   "metadata": {},
   "outputs": [],
   "source": []
  }
 ],
 "metadata": {
  "kernelspec": {
   "display_name": "Python 3",
   "language": "python",
   "name": "python3"
  },
  "language_info": {
   "codemirror_mode": {
    "name": "ipython",
    "version": 3
   },
   "file_extension": ".py",
   "mimetype": "text/x-python",
   "name": "python",
   "nbconvert_exporter": "python",
   "pygments_lexer": "ipython3",
   "version": "3.6.5"
  }
 },
 "nbformat": 4,
 "nbformat_minor": 2
}

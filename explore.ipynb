{
 "cells": [
  {
   "cell_type": "code",
   "execution_count": 1,
   "metadata": {},
   "outputs": [],
   "source": [
    "import numpy as np\n",
    "import pandas as pd\n",
    "import matplotlib.pyplot as plt\n",
    "import scipy.io as sio\n",
    "import mne\n",
    "\n",
    "%matplotlib inline\n",
    "plt.rcParams[\"figure.figsize\"] = (20,12)"
   ]
  },
  {
   "cell_type": "code",
   "execution_count": 2,
   "metadata": {},
   "outputs": [],
   "source": [
    "eeg_file_path = 'Data/10024/EEG_10024/'\n",
    "mat_file_path = 'Data/10024/190227_10024.mat'"
   ]
  },
  {
   "cell_type": "code",
   "execution_count": 3,
   "metadata": {},
   "outputs": [
    {
     "name": "stdout",
     "output_type": "stream",
     "text": [
      "Extracting parameters from Data/10024/EEG_10024/10024.vhdr...\n",
      "Setting channel info structure...\n"
     ]
    },
    {
     "name": "stderr",
     "output_type": "stream",
     "text": [
      "<ipython-input-3-26d948b7258d>:2: DeprecationWarning: stim_channel (default True in 0.17) will change to False in 0.18 and be removed in 0.19, set it to False in 0.17 to avoid this warning\n",
      "  eeg = mne.io.read_raw_brainvision(eeg_file_path+'10024.vhdr')\n",
      "<ipython-input-3-26d948b7258d>:2: RuntimeWarning: No coordinate information found for channels ['HEOG', 'VEOG']. Setting channel types to misc. To avoid this warning, set channel types explicitly.\n",
      "  eeg = mne.io.read_raw_brainvision(eeg_file_path+'10024.vhdr')\n"
     ]
    },
    {
     "name": "stdout",
     "output_type": "stream",
     "text": [
      "Used Annotations descriptions: ['Stimulus/S  2', 'Stimulus/S  8', 'Stimulus/S  3', 'Stimulus/S  4', 'Stimulus/S  5', 'Stimulus/S  6', 'Stimulus/S  7', 'Stimulus/S 10', 'Stimulus/S 18', 'Stimulus/S 11', 'Stimulus/S 12', 'Stimulus/S  9', 'Stimulus/S 13', 'Stimulus/S 14', 'Stimulus/S 15', 'Stimulus/S 16', 'Stimulus/S 17', 'Stimulus/S 19']\n"
     ]
    },
    {
     "name": "stderr",
     "output_type": "stream",
     "text": [
      "<ipython-input-3-26d948b7258d>:2: RuntimeWarning: 1 event(s) will be dropped, such as ['Comment/Active Shielding: On']. Consider using the event_id parameter to parse events that do not follow the BrainVision format. For more information, see the docstring of read_raw_brainvision.\n",
      "  eeg = mne.io.read_raw_brainvision(eeg_file_path+'10024.vhdr')\n"
     ]
    }
   ],
   "source": [
    "mat = sio.loadmat(mat_file_path)\n",
    "eeg = mne.io.read_raw_brainvision(eeg_file_path+'10024.vhdr') "
   ]
  },
  {
   "cell_type": "code",
   "execution_count": 4,
   "metadata": {},
   "outputs": [
    {
     "data": {
      "text/plain": [
       "<bound method pick_types of <RawBrainVision  |  10024.eeg, n_channels x n_times : 66 x 17770100 (3554.0 sec), ~167 kB, data not loaded>>"
      ]
     },
     "execution_count": 4,
     "metadata": {},
     "output_type": "execute_result"
    }
   ],
   "source": [
    "eeg.pick_types"
   ]
  },
  {
   "cell_type": "code",
   "execution_count": 5,
   "metadata": {},
   "outputs": [
    {
     "data": {
      "text/plain": [
       "Text(0, 0.5, 'EEG data (T)')"
      ]
     },
     "execution_count": 5,
     "metadata": {},
     "output_type": "execute_result"
    },
    {
     "data": {
      "image/png": "[encoded data removed]",
      "text/plain": [
       "<Figure size 432x288 with 1 Axes>"
      ]
     },
     "metadata": {
      "needs_background": "light"
     },
     "output_type": "display_data"
    }
   ],
   "source": [
    "start, stop = eeg.time_as_index([100, 115])\n",
    "data, times = eeg[:10, start:stop]\n",
    "\n",
    "import matplotlib.pyplot as plt\n",
    "import plotly.plotly as py\n",
    "\n",
    "plt.plot(times, data.T)\n",
    "plt.xlabel('time (s)')\n",
    "plt.ylabel('EEG data (T)')\n"
   ]
  },
  {
   "cell_type": "code",
   "execution_count": 6,
   "metadata": {},
   "outputs": [
    {
     "data": {
      "text/plain": [
       "<Info | 17 non-empty fields\n",
       "    bads : list | 0 items\n",
       "    ch_names : list | Fp1, Fz, F3, F7, FT9, FC5, FC1, C3, T7, ...\n",
       "    chs : list | 66 items (EEG: 63, MISC: 2, STIM: 1)\n",
       "    comps : list | 0 items\n",
       "    custom_ref_applied : bool | False\n",
       "    dev_head_t : Transform | 3 items\n",
       "    dig : list | 65 items\n",
       "    events : list | 0 items\n",
       "    highpass : float | 0.0 Hz\n",
       "    hpi_meas : list | 0 items\n",
       "    hpi_results : list | 0 items\n",
       "    lowpass : float | 1350.0 Hz\n",
       "    meas_date : tuple | 2019-02-27 16:57:14 GMT\n",
       "    nchan : int | 66\n",
       "    proc_history : list | 0 items\n",
       "    projs : list | 0 items\n",
       "    sfreq : float | 5000.0 Hz\n",
       "    acq_pars : NoneType\n",
       "    acq_stim : NoneType\n",
       "    ctf_head_t : NoneType\n",
       "    description : NoneType\n",
       "    dev_ctf_t : NoneType\n",
       "    experimenter : NoneType\n",
       "    file_id : NoneType\n",
       "    gantry_angle : NoneType\n",
       "    hpi_subsystem : NoneType\n",
       "    kit_system_id : NoneType\n",
       "    line_freq : NoneType\n",
       "    meas_id : NoneType\n",
       "    proj_id : NoneType\n",
       "    proj_name : NoneType\n",
       "    subject_info : NoneType\n",
       "    xplotter_layout : NoneType\n",
       ">"
      ]
     },
     "execution_count": 6,
     "metadata": {},
     "output_type": "execute_result"
    }
   ],
   "source": [
    "eeg.info"
   ]
  },
  {
   "cell_type": "code",
   "execution_count": 7,
   "metadata": {},
   "outputs": [
    {
     "name": "stdout",
     "output_type": "stream",
     "text": [
      "6943 events found\n",
      "Event IDs: [ 2  3  4  5  6  7  8  9 10 11 12 13 14 15 16 17 18 19]\n"
     ]
    }
   ],
   "source": [
    "event_markers = mne.find_events(eeg)"
   ]
  },
  {
   "cell_type": "code",
   "execution_count": 8,
   "metadata": {},
   "outputs": [
    {
     "data": {
      "text/plain": [
       "(6943, 3)"
      ]
     },
     "execution_count": 8,
     "metadata": {},
     "output_type": "execute_result"
    }
   ],
   "source": [
    "event_markers.shape"
   ]
  },
  {
   "cell_type": "code",
   "execution_count": 9,
   "metadata": {},
   "outputs": [],
   "source": [
    "trial_start_inx = event_markers[event_markers[:,2] == 12]\n",
    "trial_end_inx = event_markers[event_markers[:,2] == 15]"
   ]
  },
  {
   "cell_type": "code",
   "execution_count": 11,
   "metadata": {},
   "outputs": [],
   "source": [
    "data, times = eeg[:,:]"
   ]
  },
  {
   "cell_type": "code",
   "execution_count": 12,
   "metadata": {},
   "outputs": [
    {
     "data": {
      "text/plain": [
       "(66, 17770100)"
      ]
     },
     "execution_count": 12,
     "metadata": {},
     "output_type": "execute_result"
    }
   ],
   "source": [
    "data.shape"
   ]
  },
  {
   "cell_type": "code",
   "execution_count": 13,
   "metadata": {},
   "outputs": [
    {
     "data": {
      "text/plain": [
       "(17770100,)"
      ]
     },
     "execution_count": 13,
     "metadata": {},
     "output_type": "execute_result"
    }
   ],
   "source": [
    "times.shape"
   ]
  },
  {
   "cell_type": "code",
   "execution_count": 34,
   "metadata": {},
   "outputs": [],
   "source": [
    "positive = np.ones(100)\n",
    "neutral = np.zeros(100)\n",
    "negative = np.zeros(100)-1"
   ]
  },
  {
   "cell_type": "code",
   "execution_count": 35,
   "metadata": {},
   "outputs": [],
   "source": [
    "labels = np.hstack([positive, neutral, negative])"
   ]
  },
  {
   "cell_type": "code",
   "execution_count": 36,
   "metadata": {},
   "outputs": [],
   "source": [
    "all_trials=[]\n",
    "deleted_label_inx = []\n",
    "for i in range(len(trial_start_inx)):\n",
    "    eeg_this_trial = data[:, trial_start_inx[i][0]:trial_end_inx[i][0]]\n",
    "    if eeg_this_trial.shape[1] < 50000: \n",
    "        all_trials.append(eeg_this_trial)\n",
    "    else:\n",
    "        deleted_label_inx.append(i)"
   ]
  },
  {
   "cell_type": "code",
   "execution_count": 37,
   "metadata": {},
   "outputs": [],
   "source": [
    "labels = np.delete(labels, deleted_label_inx)"
   ]
  },
  {
   "cell_type": "code",
   "execution_count": 38,
   "metadata": {},
   "outputs": [
    {
     "data": {
      "text/plain": [
       "232"
      ]
     },
     "execution_count": 38,
     "metadata": {},
     "output_type": "execute_result"
    }
   ],
   "source": [
    "len(labels)"
   ]
  },
  {
   "cell_type": "code",
   "execution_count": 40,
   "metadata": {},
   "outputs": [
    {
     "data": {
      "text/plain": [
       "232"
      ]
     },
     "execution_count": 40,
     "metadata": {},
     "output_type": "execute_result"
    }
   ],
   "source": [
    "len(all_trials)"
   ]
  },
  {
   "cell_type": "code",
   "execution_count": 45,
   "metadata": {},
   "outputs": [
    {
     "data": {
      "text/plain": [
       "66"
      ]
     },
     "execution_count": 45,
     "metadata": {},
     "output_type": "execute_result"
    }
   ],
   "source": [
    "len(all_trials[0])"
   ]
  },
  {
   "cell_type": "code",
   "execution_count": 44,
   "metadata": {},
   "outputs": [
    {
     "data": {
      "text/plain": [
       "232"
      ]
     },
     "execution_count": 44,
     "metadata": {},
     "output_type": "execute_result"
    }
   ],
   "source": [
    "len(all_trials)"
   ]
  },
  {
   "cell_type": "code",
   "execution_count": 46,
   "metadata": {},
   "outputs": [
    {
     "data": {
      "text/plain": [
       "40401"
      ]
     },
     "execution_count": 46,
     "metadata": {},
     "output_type": "execute_result"
    }
   ],
   "source": [
    "min_len = 100000\n",
    "for i in range(len(all_trials)):\n",
    "    current_len = all_trials[i].shape[1]\n",
    "    if current_len < min_len:\n",
    "        min_len = current_len\n",
    "min_len"
   ]
  },
  {
   "cell_type": "code",
   "execution_count": 47,
   "metadata": {},
   "outputs": [],
   "source": [
    "equal_len_eeg = []\n",
    "for i in range(len(all_trials)):\n",
    "    equal_len_eeg.append(all_trials[i][:, :min_len])"
   ]
  },
  {
   "cell_type": "code",
   "execution_count": 50,
   "metadata": {},
   "outputs": [
    {
     "ename": "AttributeError",
     "evalue": "'list' object has no attribute 'shape'",
     "output_type": "error",
     "traceback": [
      "\u001b[0;31m---------------------------------------------------------------------------\u001b[0m",
      "\u001b[0;31mAttributeError\u001b[0m                            Traceback (most recent call last)",
      "\u001b[0;32m<ipython-input-50-e84a59d51c2a>\u001b[0m in \u001b[0;36m<module>\u001b[0;34m\u001b[0m\n\u001b[0;32m----> 1\u001b[0;31m \u001b[0mequal_len_eeg\u001b[0m\u001b[0;34m.\u001b[0m\u001b[0mshape\u001b[0m\u001b[0;34m\u001b[0m\u001b[0;34m\u001b[0m\u001b[0m\n\u001b[0m",
      "\u001b[0;31mAttributeError\u001b[0m: 'list' object has no attribute 'shape'"
     ]
    }
   ],
   "source": []
  },
  {
   "cell_type": "code",
   "execution_count": 96,
   "metadata": {},
   "outputs": [
    {
     "name": "stdout",
     "output_type": "stream",
     "text": [
      "165195\n",
      "40438\n",
      "40441\n",
      "40406\n",
      "87150\n",
      "40433\n",
      "40440\n",
      "40404\n",
      "87560\n",
      "40407\n",
      "40411\n",
      "40441\n",
      "40437\n",
      "87665\n",
      "40406\n",
      "40407\n",
      "40407\n",
      "66831\n",
      "40407\n",
      "40411\n",
      "68778\n",
      "40440\n",
      "40432\n",
      "65866\n",
      "40439\n",
      "40404\n",
      "40405\n",
      "40411\n",
      "40402\n",
      "40443\n",
      "65545\n",
      "40406\n",
      "40411\n",
      "40403\n",
      "40407\n",
      "61692\n",
      "40407\n",
      "40407\n",
      "40407\n",
      "40408\n",
      "64309\n",
      "40435\n",
      "40407\n",
      "40411\n",
      "40403\n",
      "40407\n",
      "62560\n",
      "40407\n",
      "40407\n",
      "59123\n",
      "40407\n",
      "40406\n",
      "40407\n",
      "62248\n",
      "40407\n",
      "40407\n",
      "58845\n",
      "40408\n",
      "40407\n",
      "54921\n",
      "64950\n",
      "40406\n",
      "40406\n",
      "40407\n",
      "40407\n",
      "60303\n",
      "40407\n",
      "40407\n",
      "40407\n",
      "40407\n",
      "40406\n",
      "57977\n",
      "40407\n",
      "40407\n",
      "40406\n",
      "55061\n",
      "40407\n",
      "40406\n",
      "40407\n",
      "56310\n",
      "62320\n",
      "40406\n",
      "40407\n",
      "40407\n",
      "40406\n",
      "40407\n",
      "40406\n",
      "55026\n",
      "40407\n",
      "40407\n",
      "40407\n",
      "40406\n",
      "62873\n",
      "40407\n",
      "40407\n",
      "40407\n",
      "40407\n",
      "40407\n",
      "58224\n",
      "40403\n",
      "89578\n",
      "40403\n",
      "40406\n",
      "40407\n",
      "40481\n",
      "62414\n",
      "40443\n",
      "40401\n",
      "40441\n",
      "56727\n",
      "40407\n",
      "40407\n",
      "40407\n",
      "40407\n",
      "40407\n",
      "68289\n",
      "40407\n",
      "40407\n",
      "40407\n",
      "40407\n",
      "80643\n",
      "40407\n",
      "40401\n",
      "40407\n",
      "59712\n",
      "40406\n",
      "40407\n",
      "61765\n",
      "40403\n",
      "40407\n",
      "40408\n",
      "40407\n",
      "40406\n",
      "40407\n",
      "53503\n",
      "40401\n",
      "40407\n",
      "40407\n",
      "40406\n",
      "60615\n",
      "62822\n",
      "40403\n",
      "40407\n",
      "40407\n",
      "40407\n",
      "71692\n",
      "40406\n",
      "40407\n",
      "40407\n",
      "40407\n",
      "40407\n",
      "40407\n",
      "56310\n",
      "40407\n",
      "40407\n",
      "40407\n",
      "40407\n",
      "40406\n",
      "54504\n",
      "57317\n",
      "60877\n",
      "40406\n",
      "40407\n",
      "40407\n",
      "40407\n",
      "61102\n",
      "40407\n",
      "40407\n",
      "40407\n",
      "40407\n",
      "40406\n",
      "57456\n",
      "40406\n",
      "40406\n",
      "40407\n",
      "58776\n",
      "40407\n",
      "40406\n",
      "40407\n",
      "40407\n",
      "62290\n",
      "40407\n",
      "40407\n",
      "40407\n",
      "40406\n",
      "40406\n",
      "55581\n",
      "40407\n",
      "40407\n",
      "40407\n",
      "40407\n",
      "56380\n",
      "40406\n",
      "40407\n",
      "40406\n",
      "54296\n",
      "40406\n",
      "40406\n",
      "40408\n",
      "54573\n",
      "76840\n",
      "40891\n",
      "40927\n",
      "40892\n",
      "41003\n",
      "56164\n",
      "40888\n",
      "40896\n",
      "40963\n",
      "40888\n",
      "40893\n",
      "56483\n",
      "40893\n",
      "40963\n",
      "40893\n",
      "40893\n",
      "40893\n",
      "61484\n",
      "40893\n",
      "40893\n",
      "58421\n",
      "40887\n",
      "40893\n",
      "40893\n",
      "40893\n",
      "40893\n",
      "54921\n",
      "40893\n",
      "40893\n",
      "40897\n",
      "40889\n",
      "40894\n",
      "58149\n",
      "40893\n",
      "40897\n",
      "40889\n",
      "40894\n",
      "40893\n",
      "60719\n",
      "40900\n",
      "65730\n",
      "40892\n",
      "40894\n",
      "40892\n",
      "58464\n",
      "40892\n",
      "40898\n",
      "40888\n",
      "40893\n",
      "40892\n",
      "40893\n",
      "55477\n",
      "40893\n",
      "40893\n",
      "40893\n",
      "40893\n",
      "55477\n",
      "40893\n",
      "40893\n",
      "56414\n",
      "57209\n",
      "40889\n",
      "40893\n",
      "40892\n",
      "40893\n",
      "40893\n",
      "54261\n",
      "40893\n",
      "40893\n",
      "40893\n",
      "40893\n",
      "40893\n",
      "40893\n",
      "60338\n",
      "40893\n",
      "40893\n",
      "40893\n",
      "54956\n",
      "40893\n",
      "40893\n",
      "58878\n",
      "40893\n",
      "40893\n",
      "40893\n",
      "59296\n",
      "40893\n",
      "40893\n",
      "40893\n",
      "40893\n",
      "40892\n",
      "40892\n",
      "55059\n",
      "40893\n",
      "40894\n",
      "40893\n",
      "40893\n",
      "40893\n",
      "40893\n",
      "56900\n",
      "40893\n"
     ]
    }
   ],
   "source": [
    "for i in range(len(all_trials)):\n",
    "    print(all_trials[i].shape[1])"
   ]
  },
  {
   "cell_type": "code",
   "execution_count": 89,
   "metadata": {},
   "outputs": [
    {
     "data": {
      "text/plain": [
       "(66, 40438)"
      ]
     },
     "execution_count": 89,
     "metadata": {},
     "output_type": "execute_result"
    }
   ],
   "source": [
    "all_trials[1].shape"
   ]
  },
  {
   "cell_type": "code",
   "execution_count": 91,
   "metadata": {},
   "outputs": [
    {
     "data": {
      "text/plain": [
       "(66, 40441)"
      ]
     },
     "execution_count": 91,
     "metadata": {},
     "output_type": "execute_result"
    }
   ],
   "source": [
    "all_trials[2].shape"
   ]
  },
  {
   "cell_type": "code",
   "execution_count": 92,
   "metadata": {},
   "outputs": [
    {
     "data": {
      "text/plain": [
       "(66, 40406)"
      ]
     },
     "execution_count": 92,
     "metadata": {},
     "output_type": "execute_result"
    }
   ],
   "source": [
    "all_trials[3].shape"
   ]
  },
  {
   "cell_type": "code",
   "execution_count": 93,
   "metadata": {},
   "outputs": [
    {
     "data": {
      "text/plain": [
       "(66, 87150)"
      ]
     },
     "execution_count": 93,
     "metadata": {},
     "output_type": "execute_result"
    }
   ],
   "source": [
    "all_trials[4].shape"
   ]
  },
  {
   "cell_type": "code",
   "execution_count": 10,
   "metadata": {},
   "outputs": [
    {
     "data": {
      "text/plain": [
       "Text(0, 0.5, 'EEG data (T)')"
      ]
     },
     "execution_count": 10,
     "metadata": {},
     "output_type": "execute_result"
    },
    {
     "data": {
      "image/png": "[encoded data removed]",
      "text/plain": [
       "<Figure size 432x288 with 1 Axes>"
      ]
     },
     "metadata": {
      "needs_background": "light"
     },
     "output_type": "display_data"
    }
   ],
   "source": [
    "start, stop = eeg.time_as_index([100, 115])\n",
    "data, times = eeg[:1, start:stop]\n",
    "\n",
    "import matplotlib.pyplot as plt\n",
    "import plotly.plotly as py\n",
    "\n",
    "plt.plot(times, data[0])\n",
    "plt.xlabel('time (s)')\n",
    "plt.ylabel('EEG data (T)')"
   ]
  },
  {
   "cell_type": "code",
   "execution_count": null,
   "metadata": {},
   "outputs": [],
   "source": []
  }
 ],
 "metadata": {
  "kernelspec": {
   "display_name": "Python 3",
   "language": "python",
   "name": "python3"
  },
  "language_info": {
   "codemirror_mode": {
    "name": "ipython",
    "version": 3
   },
   "file_extension": ".py",
   "mimetype": "text/x-python",
   "name": "python",
   "nbconvert_exporter": "python",
   "pygments_lexer": "ipython3",
   "version": "3.6.8"
  }
 },
 "nbformat": 4,
 "nbformat_minor": 2
}
